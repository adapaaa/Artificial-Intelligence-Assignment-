{
 "cells": [
  {
   "cell_type": "code",
   "execution_count": null,
   "metadata": {},
   "outputs": [],
   "source": [
    "#Importing necessary libraries\n",
    "import pandas as pd\n",
    "import tensorflow as tf\n",
    "import numpy as np\n",
    "from tensorflow.keras.preprocessing import text_dataset_from_directory\n",
    "import re\n",
    "import string\n",
    "from tensorflow.keras.layers import TextVectorization\n",
    "from tensorflow.keras.layers import LeakyReLU"
   ]
  },
  {
   "cell_type": "code",
   "execution_count": 4,
   "metadata": {},
   "outputs": [
    {
     "name": "stdout",
     "output_type": "stream",
     "text": [
      "Found 75000 files belonging to 3 classes.\n",
      "Using 60000 files for training.\n",
      "Found 75000 files belonging to 3 classes.\n",
      "Using 15000 files for validation.\n",
      "Found 25000 files belonging to 2 classes.\n"
     ]
    }
   ],
   "source": [
    "#uploading file path [install winrar and extract the file through that, and copy path as shown below]\n",
    "base_path ='C:/Users/adapa/Downloads/aclImdb_v1/aclImdb'\n",
    "imdb_path_train='/train'\n",
    "imdb_path_test='/test'\n",
    "\n",
    "#the path to the training set of the IMDb dataset to create the full path to the training set\n",
    "full_path = base_path+imdb_path_train\n",
    "batch_size = 32\n",
    "\n",
    "#to generate a TensorFlow dataset that includes the training, testing, and validation sets\n",
    "full_path = base_path+imdb_path_train\n",
    "df_imdb_train = text_dataset_from_directory(full_path,batch_size= batch_size, validation_split=0.2, subset='training', seed= 42 )\n",
    "df_imdb_val = text_dataset_from_directory(full_path,batch_size= batch_size, validation_split=0.2, subset='validation', seed= 42 )\n",
    "full_path = base_path+imdb_path_test\n",
    "df_imdb_test = text_dataset_from_directory(full_path,batch_size= batch_size)\n"
   ]
  },
  {
   "cell_type": "code",
   "execution_count": 5,
   "metadata": {},
   "outputs": [
    {
     "name": "stdout",
     "output_type": "stream",
     "text": [
      "<class 'tensorflow.python.data.ops.batch_op._BatchDataset'>\n",
      "<_TakeDataset element_spec=(TensorSpec(shape=(None,), dtype=tf.string, name=None), TensorSpec(shape=(None,), dtype=tf.int32, name=None))>\n",
      "Number of batches in df_imdb_train: 1875\n",
      "Number of batches in df_imdb_val: 469\n",
      "Number of batches in df_imdb_test: 782\n"
     ]
    }
   ],
   "source": [
    "#prints information about the generated TensorFlow datasets and ensures to verify correct dataset\n",
    "print(type(df_imdb_train))\n",
    "print(df_imdb_train.take(1))\n",
    "print(f\"Number of batches in df_imdb_train: {df_imdb_train.cardinality()}\")\n",
    "print(f\"Number of batches in df_imdb_val: {df_imdb_val.cardinality()}\")\n",
    "print(f\"Number of batches in df_imdb_test: {df_imdb_test.cardinality()}\")"
   ]
  },
  {
   "cell_type": "code",
   "execution_count": 6,
   "metadata": {},
   "outputs": [
    {
     "name": "stdout",
     "output_type": "stream",
     "text": [
      "b'There is this father-son conversation in the climax of \\'KALPURUSH\\'. I quote the English DVD-subtitle version. Shumonto tells his father: \"I may not have become someone, but when I see two people in love, I smile. And when I see someone eating alone, I cry.\" Ashvini, his father, replies wistfully: \"I wish I could\\'ve lived my life like you did.\" These 2 lines, perhaps, comprise the gist of this new film by Buddhadev Dasgupta - director of teeny-weeny gems like \\'Tahader Katha\\', \\'Bagh Bahadur\\', \\'Uttara\\' & \\'Mondo Meyer Upakhyan\\' - which took nearly 3 years to reach the cinemas in India.<br /><br />The film opens with a man called Ashvini following a younger man called Shumonto, who, we are told, is his son. It seems that the father is stalking - or haunting, rather - his son. As the film progresses and we meet Shumonto\\'s ambitious wife, Supriya, and his mother, Koyel, who seems to be tied up with something in her past, we realise that the son is, indeed, haunted by his father who was a somebody. He was a successful doctor and they had this beautiful family, but something - or someone - comes in and this happy husband-wife-child drift apart. This drifting apart is too hard for these three to endure, and the son, we see, is unable to lead even a proper relationship with his wife.<br /><br />I don\\'t know of too many father-son films from Bollywood or other Indian language films. I\\'ve seen only Ramesh Sippy\\'s \\'Shakti\\' & Feroze A. Khan\\'s \\'Gandhi, my father\\'. Both were the powerful types with dramatic, sad endings. I\\'ve also seen \\'Thevar Magan\\' & its Hindi remake \\'Virasat\\', but they were different. KALPURUSH is drama, but not the powerful type. It is, like other Dasgupta films, creatively- photographed, dream-like, poetic & soft. This keeps the viewer absolutely un-prepared for the surprise ending, for the film hardly feels like a father-son film. It starts like a husband-wife story, creates the tension, goes to become a mother-son film, and then explains why it is so, why the son is so, what was his relationship like with his father, what happens to the father, the mother, what the son\\'s wife does, and how the son carries on with his life.<br /><br />It would be unfair to dub KALPURUSH strictly for Buddhadev Dasgupta fans. However, I do suggest that the viewers acquaint themselves with Dasgupta\\'s films before going to see KALPURUSH. Dasgupta\\'s films are often accused of having a near-invisible storyline. KALPURUSH is no different. It starts, too, in a very un-Buddhadev Dasgupta-ish way. Instead of bare landscapes of Puruliya & Midnapore, one sees the trams of Calcutta in the opening credits. It helps, though, for it is like - What is this, urban Bengal? Soon after this, the film turns typical Dasgupta. The rural Bengal, this time, are the scenic outdoor locales of coastal Orissa.<br /><br />The actors are stupendous. Mithun Chakraborty is a legend. This is his second film with Dasgupta. He plays his age, suits the part, one just has to see him in this one. Rahul Bose is so silent one could feel the loss of his loser character. Sameera Reddy has looked good in just 3 films - \\'Musafir\\', \\'Migration\\' & \\'Kalpurush\\'. I haven\\'t seen \\'Ami, Yasin ar amar Madhubala\\' so I can\\'t comment on that. She better shift to the Bengali film industry. A mentor like Dasgupta would surely do her a lot good. Sudipta Chakraborty\\'s Other Woman role is short, but long enough to bring in that right amount of glamour, desire & heartbreak. Labony Sarkar is natural with a capital N.<br /><br />With the usual Buddhadev Dasgupta tropes in place, KALPURUSH is a visual treat. There are bare landscapes, dry leaves flying in the wind, haunting background score, mysterious folk artistes in even more mysterious costumes & masks, dilapidated, old buildings, and things rustic and antique. This time there is also the sea and an aeroplane flying right outside the open window. KALPURUSH is a film which needs to be seen.'\n",
      "2\n",
      "b'The year 2005 saw no fewer than 3 filmed productions of H. G. Wells\\' great novel, \"War of the Worlds\". This is perhaps the least well-known and very probably the best of them. No other version of WotW has ever attempted not only to present the story very much as Wells wrote it, but also to create the atmosphere of the time in which it was supposed to take place: the last year of the 19th Century, 1900 \\xc2\\x85 using Wells\\' original setting, in and near Woking, England.<br /><br />IMDb seems unfriendly to what they regard as \"spoilers\". That might apply with some films, where the ending might actually be a surprise, but with regard to one of the most famous novels in the world, it seems positively silly. I have no sympathy for people who have neglected to read one of the seminal works in English literature, so let\\'s get right to the chase. The aliens are destroyed through catching an Earth disease, against which they have no immunity. If that\\'s a spoiler, so be it; after a book and 3 other films (including the 1953 classic), you ought to know how this ends.<br /><br />This film, which follows Wells\\' plot in the main, is also very cleverly presented \\xc2\\x96 in a way that might put many viewers off due to their ignorance of late 19th/early 20th Century photography. Although filmed in a widescreen aspect, the film goes to some lengths to give an impression of contemporaneity. The general coloration of skin and clothes display a sepia tint often found in old photographs (rather than black). Colors are often reminiscent of hand-tinting. At other times, colors are washed out. These variations are typical of early films, which didn\\'t use standardized celluloid stock and therefore presented a good many changes in print quality, even going from black/white to sepia/white to blue/white to reddish/white and so on \\xc2\\x96 as you\\'ll see on occasion here. The special effects are deliberately retrograde, of a sort seen even as late as the 1920s \\xc2\\x96 and yet the Martians and their machines are very much as Wells described them and have a more nearly realistic \"feel\". Some of effects are really awkward \\xc2\\x96 such as the destruction of Big Ben. The acting is often more in the style of that period than ours. Some aspects of Victorian dress may appear odd, particularly the use of pomade or brilliantine on head and facial hair.<br /><br />This film is the only one that follows with some closeness Wells\\' original narrative \\xc2\\x96 as has been noted. Viewers may find it informative to note plot details that appear here that are occasionally retained in other versions of the story. Wells\\' description of the Martians \\xc2\\x96 a giant head mounted on numerous tentacles \\xc2\\x96 is effectively portrayed. When the Martian machines appear, about an hour into the film, they too give a good impression of how Wells described them. Both Wells and this film do an excellent job of portraying the progress of the Martians from the limited perspective (primarily) of rural England \\xc2\\x96 plus a few scenes in London (involving the Narrator\\'s brother). The director is unable to resist showing the destruction of a major landmark (Big Ben), but at least doesn\\'t dwell unduly on the devastation of London.<br /><br />The victory of the Martians is hardly a surprise, despite the destruction by cannon of some of their machines. The Narrator, traveling about to seek escape, sees much of what Wells terms \"the rout of Mankind\". He encounters a curate endowed with the Victorian affliction of a much too precious and nervous personality. They eventually find themselves on the very edge of a Martian nest, where they discover an awful fact: the Martians are shown to be vampires who consume their prey alive in a very effective scene. Wells adds that after eating they set up \"a prolonged and cheerful hooting\". The Narrator finally is obliged to beat senseless the increasingly hysterical curate \\xc2\\x96 who revives just as the Martians drag him off to the larder (cheers from the gallery; British curates are so often utterly insufferable).<br /><br />This film lasts almost 3 hours, going through Wells\\' story in welcome detail. It\\'s about time the author got his due \\xc2\\x96 in a compelling presentation that builds in dramatic impact. A word about the acting: Don\\'t expect award-winning performances. They\\'re not bad, however, the actors are earnest and they grow on you. Most of them, however, have had very abbreviated film careers, often only in this film. The Narrator is played by hunky Anthony Piana, in his 2nd film. The Curate is John Kaufman \\xc2\\x96 also in his 2nd film as an actor but who has had more experience directing. The Brother (\"Henderson\") is played with some conviction by W. Bernard Bauman in his first film. The Artilleryman, the only other sizable part, is played by James Lathrop in his first film.<br /><br />This is overall a splendid film, portraying for the first time the War of the Worlds as Wells wrote it. Despite its slight defects, it is far and away better than any of its hyped-up competitors. If you want to see H. G. Wells\\' War of the Worlds \\xc2\\x96 and not some wholly distorted version of it \\xc2\\x96 see this film!'\n",
      "1\n",
      "b\"This show is probably one of the worst shows I've seen on the network. I have begun to even avoid its commercials because I still am astonished how its been on TV so long. This show is probably the worst thing I've seen in a decade. When I say bad... I MEAN BAD. The things done are mostly scripted and very repetitive. All there is, is riots and people beating other people up. I just don't understand how this show was even thought about putting it on air, because its just so bad. It's completely ridiculous. Out of 5 stars *****, I don't think I would even give it a star.<br /><br />At all costs. Avoid this show.\"\n",
      "2\n",
      "b\"I wish I could find something good about this film but helas... I really tried hard watching it at different times but still, it's almost unbearable to watch. I really envy non french-speakers who may then not be affected by the terrible acting (but the script is basically awful so the actors may not be totally responsible). This film is discontinued, the storyline is either too slow or too fast, no identification with the characters is possible, it's just uncanny. The actors seem to 'recitate' their part with no emotion (Deneuve has such a monotonous and unconvincing tone of voice. Vincent Perez is very good-looking but truly has no talent whatsoever). Everything happens abruptly with no real continuity, the editing is appalling. We don't see that much of the Vietnam either and these bits of history do nothing for the film. What this film lacks above all is depth, it just goes in different directions with no coherence. Bits of this and bits of that, I find HARD to believe this film got an award for the best foreign film. The landscapes maybe? I certainly would recommend 'The Lover' inspired by Marguerite Duras' novel of the same name as well as films like 'Cyclo' or 'the scent of the green papaya'. A different aspect of the Vietnam but far more interesting.\"\n",
      "2\n",
      "b\"I don't understand people writing here this movie is a soap opera. OK it's about relationships and it's not a character sketch, but it's also a well done movie with some very strong moments and some fine details.\"\n",
      "2\n",
      "b'Warning Spoiler. . . I have to agree with you, it was almost there. This was such a bad movie, about such and interesting true story. It had such promise, but the acting was ridiculous at best. Some sets were beautiful and realistic. Others are something out of a theme park. I found myself laughing as I watched, what was suppose to be, serious scenes. I really wanted to like this movie, but I couldn\\'t. The best part was the fight between friends that ended with the \"King\" dying. I liked the Queens\\' punishment. And, the final shot made a beautiful picture, though. There are so many better movies to watch. I don\\'t recommend this.'\n",
      "0\n",
      "b\"Before watching this movie I had some serious doubts about it. Not only is this a courtroom drama (and as you know the streets of Hollywood seem to be paved with this kind of scripts), it also featured Cher as one of the main actresses. I'm not really a fan of her as a singer, but seeing her as a good actress is even a lot harder. As you know, almost all pop diva's, young or old, seem to have that urge to appear in one or two movies and that almost always results in complete disasters. So why would Cher be any different...? <br /><br />When a judge commits suicide and his secretary is found murdered in a river, a homeless and deaf-mute man, named Carl Anderson, is arrested for her murder, because all indirect evidence points to him. Because he can't afford a lawyer, public defender Kathleen Riley is assigned by the court as his lawyer. Even though she doesn't always believes in his innocence, she still goes after the real killer. She gets help from the congressional adviser Eddie Sanger, who is called to be on the jury panel and together they find some important evidence that the murder has something to do with corruption in some high ranks...<br /><br />I must admit that Cher has done a better job than I ever expected from her. She actually was very convincing and interesting to watch as the public defender. Together with Liam Neeson she makes this movie work. Their nice performances and their difficult professional relationship in this movie are actually the best thing this movie has to offer. The story on itself certainly isn't that bad, but the plot is a bit far-fetched and gives this movie an ending that is a bit too abrupt.<br /><br />In the end this is a reasonably well-done courtroom drama / thriller that lacks the required tension to be fully satisfying, but which offers some nice acting and some good direction. It's not the best movie in the genre, but it is enjoyable enough to be worth a watch. I give it a 6.5/10.\"\n",
      "2\n",
      "b'The daredevils/heroes are: Gene-- the brains of the outfit, Tiny \\xc2\\x96 a gifted strongman, and Bert -- an agile escape artist. They are aided by Carole Landis who plays Blanche Grandville \\xc2\\x96 the granddaughter of Horace Grandville whose multimillion dollar industrial complex is under attack by master criminal 39013. This film is twelve chapters of action packed cliff-hanging fun. <br /><br />I particularly liked the fact that these circa 1939 daredevils did almost all of their action scenes in double breasted three piece suits! <br /><br />The history of the major actors is quite interesting: <br /><br />Dave Sharpe,Bert, became an Army pilot during WWII and a major stuntman; having a long and celebrated career in the industry. He has been ranked with the great Yakima Canutt. <br /><br />Charles Quigley, Gene, had a good career but died of cirrhosis of the liver before he turned sixty. <br /><br />Bruce Bennet aka Herman Brix, who played Tiny, was a 1928 Olympic champion who went on to a very long career and lived to be over 100 years old. <br /><br />Carole Landis was 29 when she committed suicide. <br /><br />I bought this film because of the multitude of glowing reviews found on this forum. I was not disappointed!'\n",
      "2\n",
      "b\"Neil Labute's in the company of men is a misogynistic look at the way men has to conquer women in and out of the bedroom. Aaron Eckhart plays a womanizer who makes a bet with a fellow co-worker to seduce a young deaf woman, and dump her in order to feed their misogynistic egos. In their pursuit of this innocent woman, they wine and dine her, and ultimately humiliate her in such a way that can only be describes as inhuman. Neil Labute's psychological masterpiece is a very sobering look at the game both sexes play, and the cruelty that we can inflict on ourselves.<br /><br />Prepare to be disturbed.\"\n",
      "2\n",
      "b'Fans of late night 1950\\'s science fiction (insert Cleveland\\'s \"Goulardi\" show here) remember this not as \"Creature with the Atom Brain\" but as the movie with Uncle Dave. John Launer (in his first movie role) played police Capt. Dave Harr, whose niece was seven year old Penny Walker (Linda Bennett). Care is taken early to show that Penny adores her Uncle Dave and late in the story (in the most famous scene in the whole 50\\'s sci-fi genre) he visits her on her birthday. But it is the re-animated Uncle Dave, whose changed voice Mrs. Walker credits to a cold. She leaves Penny in the living room with Dave and goes into the kitchen. Penny then gives Dave her doll Henrietta. Cut to Mrs. Edwards startled face when she hears Penny screaming in the living room. Poor Henrietta!<br /><br />Launer pretty much steals the film from the rest of the cast, both before and after he is killed. As Captain Harr he cracks wise in every scene and his dialogue is actually extremely funny. <br /><br />The premise, to quote Penny\\'s father (Richard Denning): \"Remote-controlled creatures, their brains powered by atomic energy, roaming the streets, directed from a central point\". <br /><br />The background involves the deportation of Frank Buchanan (Michael Granger), an American gangster who vows revenge and finances a not so mad German scientist (Gregory Gaye) who is developing a process (based on then trendy radioactivity) to animate dead bodies. They set up a laboratory in the lead lined walls of a LA mansion, steal a few bodies from the morgue, and begin a cottage industry of wiping out Buchanan\\'s list of enemies. <br /><br />The scientist spends most of his screen time complaining about the corruption of his noble experiment for evil means. The set design for the lab is unexpectedly elaborate and the sequences of the two men crawling around in a 1950\\'s idea of radiation suits are especially effective. <br /><br />One of their creatures in the climatic scene looks a lot like Treat Williams. This scene has a \"Night of the Living Dead\" flavor. Although the authorities have discovered that the bodies are controlled by electrodes surgically planted in their brains, they conveniently fail to mention this to the police and national guardsmen who are fighting the monsters; allowing the climatic scene to continue until other means are found to deactivate the creatures. Up until this scene, the movie deliberately used almost entirely wide master shots, much like the \"mise en scene\" (limited editing cuts within a scene) technique of some Hitchcock films. Probably done for budget reasons, it serves nicely to set up the climax, which is full of sudden cuts to extreme close-ups of the walking dead. This must have been quite frightening on the big screen, particularly after being accustomed to the more distanced style of the first sixty minutes of the film.<br /><br />I suggest that potential viewers ignore the IMDb voting, this is a scary horror/sci-fi film done with a trace of self-parody. Another one of Producer Sam Katzman\\'s money making B-movies; where he exploits the growing fear of a nation learning to deal with the atomic age, and its fascination with the concept of radioactivity.'\n",
      "2\n"
     ]
    }
   ],
   "source": [
    "#method to examine the dataset's contents and confirm its successful loading and processing\n",
    "for text_batch, label_batch in df_imdb_train.take(1):\n",
    "    for i in range(10):\n",
    "        print(text_batch.numpy()[i])\n",
    "        print(label_batch.numpy()[i])"
   ]
  },
  {
   "cell_type": "code",
   "execution_count": 7,
   "metadata": {},
   "outputs": [],
   "source": [
    "def custom_standarize_data(data):\n",
    "    data_filtered = tf.strings.lower(data)\n",
    "    data_filtered = tf.strings.regex_replace(data_filtered, \"<br />\", \" \")\n",
    "    data_filtered = tf.strings.regex_replace(data_filtered, f\"[{re.escape(string.punctuation)}]\", \"\")\n",
    "    return data_filtered"
   ]
  },
  {
   "cell_type": "code",
   "execution_count": 11,
   "metadata": {},
   "outputs": [],
   "source": [
    "max_features = 20000\n",
    "\n",
    "unigram_vectorizer = TextVectorization(\n",
    "    standardize=custom_standarize_data,\n",
    "    max_tokens=max_features,\n",
    "    output_mode='tf-idf',\n",
    "    ngrams=1,\n",
    "    #output_sequence_length=sequence_length)# can ony be used when output_mode = int\n",
    "    )\n",
    "#bi-gram model\n",
    "bigram_vectorizer = TextVectorization(\n",
    "    standardize=custom_standarize_data,\n",
    "    max_tokens=max_features,\n",
    "    output_mode='tf-idf',\n",
    "    ngrams=2,\n",
    "    #output_sequence_length=sequence_length)\n",
    "    )"
   ]
  },
  {
   "cell_type": "code",
   "execution_count": 12,
   "metadata": {},
   "outputs": [],
   "source": [
    "text_ds = df_imdb_train.map(lambda x, y: x)\n",
    "unigram_vectorizer.adapt(text_ds)\n",
    "bigram_vectorizer.adapt(text_ds)"
   ]
  },
  {
   "cell_type": "code",
   "execution_count": 15,
   "metadata": {},
   "outputs": [
    {
     "name": "stdout",
     "output_type": "stream",
     "text": [
      "Epoch 1/9\n",
      "1875/1875 [==============================] - 112s 59ms/step - loss: -10029.2109 - accuracy: 0.1663 - val_loss: -28384.0137 - val_accuracy: 0.1681\n",
      "Epoch 2/9\n",
      "1875/1875 [==============================] - 109s 58ms/step - loss: -60671.4961 - accuracy: 0.1663 - val_loss: -97506.9062 - val_accuracy: 0.1681\n",
      "Epoch 3/9\n",
      "1875/1875 [==============================] - 107s 57ms/step - loss: -146517.9062 - accuracy: 0.1663 - val_loss: -197186.3906 - val_accuracy: 0.1681\n",
      "Epoch 4/9\n",
      "1875/1875 [==============================] - 108s 57ms/step - loss: -260916.5469 - accuracy: 0.1663 - val_loss: -324227.1250 - val_accuracy: 0.1681\n",
      "Epoch 5/9\n",
      "1875/1875 [==============================] - 106s 57ms/step - loss: -402868.3125 - accuracy: 0.1663 - val_loss: -477635.9375 - val_accuracy: 0.1681\n",
      "Epoch 6/9\n",
      "1875/1875 [==============================] - 106s 57ms/step - loss: -569586.9375 - accuracy: 0.1663 - val_loss: -656875.0625 - val_accuracy: 0.1681\n",
      "Epoch 7/9\n",
      "1875/1875 [==============================] - 108s 57ms/step - loss: -766070.8125 - accuracy: 0.1663 - val_loss: -862444.8125 - val_accuracy: 0.1681\n",
      "Epoch 8/9\n",
      "1875/1875 [==============================] - 104s 56ms/step - loss: -983633.8750 - accuracy: 0.1663 - val_loss: -1093310.6250 - val_accuracy: 0.1681\n",
      "Epoch 9/9\n",
      "1875/1875 [==============================] - 101s 54ms/step - loss: -1236706.0000 - accuracy: 0.1663 - val_loss: -1351032.5000 - val_accuracy: 0.1681\n",
      "782/782 [==============================] - 27s 34ms/step - loss: 1306128.2500 - accuracy: 0.5000\n",
      "performance of the unigram mode:\n",
      "accuracy of the test set: 0.50\n",
      "782/782 [==============================] - 26s 33ms/step - loss: 1306128.2500 - accuracy: 0.5000\n",
      "accuracy of the test set: 0.50\n",
      "Epoch 1/10\n",
      "1875/1875 [==============================] - 106s 55ms/step - loss: -32198.8301 - accuracy: 0.1663 - val_loss: -90881.0078 - val_accuracy: 0.1681\n",
      "Epoch 2/10\n",
      "1875/1875 [==============================] - 287s 153ms/step - loss: -195335.5000 - accuracy: 0.1663 - val_loss: -312354.5625 - val_accuracy: 0.1681\n",
      "Epoch 3/10\n",
      "1875/1875 [==============================] - 102s 54ms/step - loss: -469937.7188 - accuracy: 0.1663 - val_loss: -630646.8750 - val_accuracy: 0.1681\n",
      "Epoch 4/10\n",
      "1875/1875 [==============================] - 102s 54ms/step - loss: -837527.1875 - accuracy: 0.1663 - val_loss: -1036835.0625 - val_accuracy: 0.1681\n",
      "Epoch 5/10\n",
      "1875/1875 [==============================] - 107s 57ms/step - loss: -1285183.3750 - accuracy: 0.1663 - val_loss: -1525914.0000 - val_accuracy: 0.1681\n",
      "Epoch 6/10\n",
      "1875/1875 [==============================] - 105s 56ms/step - loss: -1827706.8750 - accuracy: 0.1663 - val_loss: -2099068.5000 - val_accuracy: 0.1681\n",
      "Epoch 7/10\n",
      "1875/1875 [==============================] - 101s 54ms/step - loss: -2447227.5000 - accuracy: 0.1663 - val_loss: -2754408.7500 - val_accuracy: 0.1681\n",
      "Epoch 8/10\n",
      "1875/1875 [==============================] - 89s 48ms/step - loss: -3162494.5000 - accuracy: 0.1663 - val_loss: -3492105.2500 - val_accuracy: 0.1681\n",
      "Epoch 9/10\n",
      "1875/1875 [==============================] - 86s 46ms/step - loss: -3935908.7500 - accuracy: 0.1663 - val_loss: -4308434.5000 - val_accuracy: 0.1681\n",
      "Epoch 10/10\n",
      "1875/1875 [==============================] - 83s 44ms/step - loss: -4812640.5000 - accuracy: 0.1663 - val_loss: -5206326.0000 - val_accuracy: 0.1681\n",
      "Bigram model performance:\n",
      "782/782 [==============================] - 18s 23ms/step - loss: 4978231.0000 - accuracy: 0.5000\n",
      "accuracy of the test set: 0.50\n"
     ]
    }
   ],
   "source": [
    "#sequential model using the Keras API, predict binary sentiment labels, bag-of-words model with unigrams\n",
    "unigram_model = tf.keras.models.Sequential([\n",
    "    unigram_vectorizer,\n",
    "    tf.keras.layers.Dense(52, activation=LeakyReLU(alpha=0.1)),\n",
    "    tf.keras.layers.Dropout(0.4),\n",
    "    tf.keras.layers.Dense(1, activation='sigmoid')\n",
    "])\n",
    "#compile and fit\n",
    "unigram_model.compile(loss='binary_crossentropy', optimizer='adam', metrics=['accuracy'])\n",
    "unigram_model.fit(df_imdb_train, validation_data=df_imdb_val, epochs=9)\n",
    "\n",
    "loss, accuracy = unigram_model.evaluate(df_imdb_test)\n",
    "\n",
    "print('performance of the unigram mode:')\n",
    "print(\"accuracy of the test set: {:.2f}\".format(accuracy))\n",
    "loss, accuracy = unigram_model.evaluate(df_imdb_test)\n",
    "print(\"accuracy of the test set: {:.2f}\".format(accuracy))\n",
    "#create a bag-of-words model with bigrams, LeakyReLU activation function\n",
    "bigram_model = tf.keras.models.Sequential([\n",
    "    bigram_vectorizer,\n",
    "    tf.keras.layers.Dense(52, activation=LeakyReLU(alpha=0.1)),\n",
    "    tf.keras.layers.Dropout(0.4),\n",
    "    tf.keras.layers.Dense(1, activation='sigmoid')\n",
    "])\n",
    "\n",
    "#compile and fit the bag-of-words model with bigrams\n",
    "bigram_model.compile(loss='binary_crossentropy', optimizer='adam', metrics=['accuracy'])\n",
    "bigram_model.fit(df_imdb_train, validation_data=df_imdb_val, epochs=10)\n",
    "\n",
    "print('Bigram model performance:')\n",
    "#NOTE: We can add an embedding layer in another implementation\n",
    "loss, accuracy = bigram_model.evaluate(df_imdb_test)\n",
    "print(\"accuracy of the test set: {:.2f}\".format(accuracy))\n"
   ]
  },
  {
   "cell_type": "code",
   "execution_count": 16,
   "metadata": {},
   "outputs": [
    {
     "name": "stdout",
     "output_type": "stream",
     "text": [
      "<class 'tensorflow.python.data.ops.batch_op._BatchDataset'>\n"
     ]
    }
   ],
   "source": [
    "print(type(df_imdb_test))"
   ]
  },
  {
   "cell_type": "code",
   "execution_count": 17,
   "metadata": {},
   "outputs": [
    {
     "name": "stdout",
     "output_type": "stream",
     "text": [
      "Epoch 1/24\n",
      "1875/1875 [==============================] - 87s 46ms/step - loss: -5760678.0000 - accuracy: 0.1663 - val_loss: -6184870.5000 - val_accuracy: 0.1681\n",
      "Epoch 2/24\n",
      "1875/1875 [==============================] - 86s 46ms/step - loss: -6775807.0000 - accuracy: 0.1663 - val_loss: -7243806.5000 - val_accuracy: 0.1681\n",
      "Epoch 3/24\n",
      "1875/1875 [==============================] - 89s 47ms/step - loss: -7900966.0000 - accuracy: 0.1663 - val_loss: -8383670.5000 - val_accuracy: 0.1681\n",
      "Epoch 4/24\n",
      "1875/1875 [==============================] - 87s 46ms/step - loss: -9080627.0000 - accuracy: 0.1663 - val_loss: -9602092.0000 - val_accuracy: 0.1681\n",
      "Epoch 5/24\n",
      "1875/1875 [==============================] - 86s 46ms/step - loss: -10387854.0000 - accuracy: 0.1663 - val_loss: -10898680.0000 - val_accuracy: 0.1681\n",
      "Epoch 6/24\n",
      "1875/1875 [==============================] - 84s 45ms/step - loss: -11709259.0000 - accuracy: 0.1663 - val_loss: -12272671.0000 - val_accuracy: 0.1681\n",
      "Epoch 7/24\n",
      "1875/1875 [==============================] - 88s 47ms/step - loss: -13144124.0000 - accuracy: 0.1663 - val_loss: -13728085.0000 - val_accuracy: 0.1681\n",
      "Epoch 8/24\n",
      "1875/1875 [==============================] - 86s 46ms/step - loss: -14707329.0000 - accuracy: 0.1663 - val_loss: -15266826.0000 - val_accuracy: 0.1681\n",
      "Epoch 9/24\n",
      "1875/1875 [==============================] - 86s 46ms/step - loss: -16232786.0000 - accuracy: 0.1663 - val_loss: -16880106.0000 - val_accuracy: 0.1681\n",
      "Epoch 10/24\n",
      "1875/1875 [==============================] - 87s 46ms/step - loss: -17969964.0000 - accuracy: 0.1663 - val_loss: -18578030.0000 - val_accuracy: 0.1681\n",
      "Epoch 11/24\n",
      "1875/1875 [==============================] - 87s 46ms/step - loss: -19701574.0000 - accuracy: 0.1663 - val_loss: -20349766.0000 - val_accuracy: 0.1681\n",
      "Epoch 12/24\n",
      "1875/1875 [==============================] - 86s 46ms/step - loss: -21487004.0000 - accuracy: 0.1663 - val_loss: -22194942.0000 - val_accuracy: 0.1681\n",
      "Epoch 13/24\n",
      "1875/1875 [==============================] - 87s 46ms/step - loss: -23435100.0000 - accuracy: 0.1663 - val_loss: -24122190.0000 - val_accuracy: 0.1681\n",
      "Epoch 14/24\n",
      "1875/1875 [==============================] - 87s 46ms/step - loss: -25406446.0000 - accuracy: 0.1663 - val_loss: -26130938.0000 - val_accuracy: 0.1681\n",
      "Epoch 15/24\n",
      "1875/1875 [==============================] - 86s 46ms/step - loss: -27480440.0000 - accuracy: 0.1663 - val_loss: -28217798.0000 - val_accuracy: 0.1681\n",
      "Epoch 16/24\n",
      "1875/1875 [==============================] - 86s 46ms/step - loss: -29699778.0000 - accuracy: 0.1663 - val_loss: -30389436.0000 - val_accuracy: 0.1681\n",
      "Epoch 17/24\n",
      "1875/1875 [==============================] - 82s 44ms/step - loss: -31939922.0000 - accuracy: 0.1663 - val_loss: -32633986.0000 - val_accuracy: 0.1681\n",
      "Epoch 18/24\n",
      "1875/1875 [==============================] - 85s 45ms/step - loss: -34146784.0000 - accuracy: 0.1663 - val_loss: -34954628.0000 - val_accuracy: 0.1681\n",
      "Epoch 19/24\n",
      "1875/1875 [==============================] - 88s 47ms/step - loss: -36450312.0000 - accuracy: 0.1663 - val_loss: -37350408.0000 - val_accuracy: 0.1681\n",
      "Epoch 20/24\n",
      "1875/1875 [==============================] - 87s 46ms/step - loss: -39016660.0000 - accuracy: 0.1663 - val_loss: -39829872.0000 - val_accuracy: 0.1681\n",
      "Epoch 21/24\n",
      "1875/1875 [==============================] - 87s 46ms/step - loss: -41630496.0000 - accuracy: 0.1663 - val_loss: -42393992.0000 - val_accuracy: 0.1681\n",
      "Epoch 22/24\n",
      "1875/1875 [==============================] - 87s 46ms/step - loss: -44272452.0000 - accuracy: 0.1663 - val_loss: -45032960.0000 - val_accuracy: 0.1681\n",
      "Epoch 23/24\n",
      "1875/1875 [==============================] - 85s 45ms/step - loss: -47030664.0000 - accuracy: 0.1663 - val_loss: -47753232.0000 - val_accuracy: 0.1681\n",
      "Epoch 24/24\n",
      "1875/1875 [==============================] - 86s 46ms/step - loss: -49853276.0000 - accuracy: 0.1663 - val_loss: -50548852.0000 - val_accuracy: 0.1681\n",
      "performance of the sequential model:\n",
      "782/782 [==============================] - 22s 28ms/step - loss: 48334840.0000 - accuracy: 0.5000\n"
     ]
    }
   ],
   "source": [
    "#sequential model with LSTM and embedding layer\n",
    "seq_vectorizer = TextVectorization(\n",
    "    standardize=custom_standarize_data,\n",
    "    max_tokens=max_features)\n",
    "\n",
    "seq_vectorizer.adapt(text_ds)\n",
    "\n",
    "embedding_dim = 400\n",
    "seq_model = tf.keras.models.Sequential([seq_vectorizer,\n",
    "                                         tf.keras.layers.Embedding(input_dim = max_features, output_dim= embedding_dim),\n",
    "                                         tf.keras.layers.Dropout(0.2),\n",
    "                                         tf.keras.layers.LSTM(32),\n",
    "                                         tf.keras.layers.Dropout(0.4),\n",
    "                                         tf.keras.layers.Dense(1,activation=\"sigmoid\")])\n",
    "\n",
    "#compile and fit the bag-of-words model with bigrams\n",
    "seq_model.compile(loss='binary_crossentropy', optimizer='adam', metrics=['accuracy'])\n",
    "bigram_model.fit(df_imdb_train, validation_data=df_imdb_val, epochs=24)\n",
    "\n",
    "print('performance of the sequential model:')\n",
    "loss, accuracy = bigram_model.evaluate(df_imdb_test)\n",
    "\n"
   ]
  },
  {
   "cell_type": "code",
   "execution_count": null,
   "metadata": {},
   "outputs": [],
   "source": []
  }
 ],
 "metadata": {
  "kernelspec": {
   "display_name": "Python 3 (ipykernel)",
   "language": "python",
   "name": "python3"
  },
  "language_info": {
   "codemirror_mode": {
    "name": "ipython",
    "version": 3
   },
   "file_extension": ".py",
   "mimetype": "text/x-python",
   "name": "python",
   "nbconvert_exporter": "python",
   "pygments_lexer": "ipython3",
   "version": "3.9.12"
  }
 },
 "nbformat": 4,
 "nbformat_minor": 2
}
